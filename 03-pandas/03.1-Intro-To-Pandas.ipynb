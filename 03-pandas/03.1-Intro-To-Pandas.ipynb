{
  "cells": [
    {
      "cell_type": "markdown",
      "metadata": {
        "id": "view-in-github",
        "colab_type": "text"
      },
      "source": [
        "<a href=\"https://colab.research.google.com/github/Nonpoint93/Proyecto2/blob/master/03-pandas/03.1-Intro-To-Pandas.ipynb\" target=\"_parent\"><img src=\"https://colab.research.google.com/assets/colab-badge.svg\" alt=\"Open In Colab\"/></a>"
      ]
    },
    {
      "cell_type": "markdown",
      "id": "bdfbcacc",
      "metadata": {
        "id": "bdfbcacc"
      },
      "source": [
        "![Pandas logo](https://github.com/4GeeksAcademy/machine-learning-prework/blob/main/03-pandas/assets/pandas_logo.png?raw=true)\n",
        "\n",
        "## Introduction to Python Pandas\n",
        "\n",
        "**Pandas** is an open-source python library that provides data structures and is designed to handle and analyze tabular data in Python. Pandas is based on NumPy, which allows it to integrate well into the data science ecosystem alongside other libraries such as `Scikit-learn` and `Matplotlib`.\n",
        "\n",
        "Specifically, the key points of this library are:\n",
        "\n",
        "- **Data structures**: This library provides two structures for working with data. These are the `Series` which are labeled one-dimensional arrays, similar to a vector, list or sequence and which is able to contain any type of data, and the `DataFrames`, which is a labeled two-dimensional structure with columns that can be of different types, similar to a spreadsheet or a SQL table.\n",
        "- **Data manipulation**: Pandas allows you to carry out an exhaustive data analysis through functions that can be applied directly on your data structures. These operations include missing data control, data filtering, merging, combining and joining data from different sources...\n",
        "- **Efficiency**: All operations and/or functions that are applied on data structures are vectorized to improve performance compared to traditional Python loops and iterators.\n",
        "\n",
        "Pandas is a fundamental tool for any developer working with data in Python, as it provides a wide variety of tools for data exploration, cleaning and transformation, making the analysis process more efficient and effective."
      ]
    },
    {
      "cell_type": "markdown",
      "id": "40631cd6",
      "metadata": {
        "id": "40631cd6"
      },
      "source": [
        "### Data Structures in Python Pandas\n",
        "\n",
        "Pandas provides two main data structures: `Series` and `DataFrames`.\n",
        "\n",
        "#### Series\n",
        "\n",
        "A **series** in Pandas is a one-dimensional labeled data structure. It is similar to a 1D array in NumPy, but has an index that allows access to the values by label. A series can contain any kind of data: integers, strings, Python objects...\n",
        "\n",
        "![Example of a series](https://github.com/4GeeksAcademy/machine-learning-prework/blob/main/03-pandas/assets/series.PNG?raw=true)\n",
        "\n",
        "A Pandas series has two distinct parts:\n",
        "\n",
        "- **Index** (*index*): An array of tags associated with the data.\n",
        "- **Value** (*value*): An array of data.\n",
        "\n",
        "A series can be created using the `Series` class of the library with a list of elements as an argument. For example:"
      ]
    },
    {
      "cell_type": "code",
      "execution_count": null,
      "id": "21653d4f",
      "metadata": {
        "id": "21653d4f",
        "outputId": "856d96f5-9e3d-4f45-a421-6f4dd2e4e1c0"
      },
      "outputs": [
        {
          "data": {
            "text/plain": [
              "0    1\n",
              "1    2\n",
              "2    3\n",
              "3    4\n",
              "4    5\n",
              "dtype: int64"
            ]
          },
          "execution_count": 1,
          "metadata": {},
          "output_type": "execute_result"
        }
      ],
      "source": [
        "import pandas as pd\n",
        "\n",
        "serie = pd.Series([1, 2, 3, 4, 5])\n",
        "serie"
      ]
    },
    {
      "cell_type": "markdown",
      "id": "d1c2dda1",
      "metadata": {
        "id": "d1c2dda1"
      },
      "source": [
        "This will create a series with elements 1, 2, 3, 4 and 5. In addition, since we have not included information about the indexes, an automatic index is generated starting at 0:"
      ]
    },
    {
      "cell_type": "code",
      "execution_count": null,
      "id": "2d4c091d",
      "metadata": {
        "id": "2d4c091d",
        "outputId": "055836f1-ac76-4a90-9e0e-985291ce70db"
      },
      "outputs": [
        {
          "data": {
            "text/plain": [
              "a    1\n",
              "b    2\n",
              "c    3\n",
              "d    4\n",
              "e    5\n",
              "dtype: int64"
            ]
          },
          "execution_count": 2,
          "metadata": {},
          "output_type": "execute_result"
        }
      ],
      "source": [
        "serie = pd.Series([1, 2, 3, 4, 5], index = [\"a\", \"b\", \"c\", \"d\", \"e\"])\n",
        "serie"
      ]
    },
    {
      "cell_type": "markdown",
      "id": "f7588c91",
      "metadata": {
        "id": "f7588c91"
      },
      "source": [
        "Thus, the previous series has an index composed of letters.\n",
        "\n",
        "Both series store the same values, but the way they are accessed may vary according to the index.\n",
        "\n",
        "In a series, its elements can be accessed by index or by position (the latter is what we did in NumPy). Below are some operations that can be performed using the above series:"
      ]
    },
    {
      "cell_type": "code",
      "execution_count": null,
      "id": "0f90b9e7",
      "metadata": {
        "id": "0f90b9e7",
        "outputId": "f277ec11-fcdf-444b-ba30-7a0ec5616b6e"
      },
      "outputs": [
        {
          "name": "stdout",
          "output_type": "stream",
          "text": [
            "3\n",
            "3\n",
            "a    1\n",
            "b    7\n",
            "c    3\n",
            "d    4\n",
            "e    5\n",
            "dtype: int64\n",
            "a    11\n",
            "b    17\n",
            "c    13\n",
            "d    14\n",
            "e    15\n",
            "dtype: int64\n",
            "70\n"
          ]
        }
      ],
      "source": [
        "# Access the third element\n",
        "print(serie[\"c\"]) # By index\n",
        "print(serie[2]) # By position\n",
        "\n",
        "# Change the value of the second element\n",
        "serie[\"b\"] = 7\n",
        "print(serie)\n",
        "\n",
        "# Add 10 to all elements\n",
        "serie += 10\n",
        "print(serie)\n",
        "\n",
        "# Calculate the sum of the elements\n",
        "sum_all = serie.sum()\n",
        "print(sum_all)"
      ]
    },
    {
      "cell_type": "markdown",
      "id": "e4fe3649",
      "metadata": {
        "id": "e4fe3649"
      },
      "source": [
        "#### Pandas DataFrame\n",
        "\n",
        "A **DataFrame** in Pandas is a two-dimensional labeled data structure. It is similar to a 2D array in NumPy, but has an index that allows access to the values per label, per row, and column.\n",
        "\n",
        "![Example of a DataFrame](https://github.com/4GeeksAcademy/machine-learning-prework/blob/main/03-pandas/assets/dataframe.PNG?raw=true)\n",
        "\n",
        "A DataFrame in Pandas has several differentiated parts:\n",
        "\n",
        "- **Data** (*data*): An array of values that can be of different types per column.\n",
        "- **Row index** (*row index*): An array of labels associated to the rows.\n",
        "- **Column index** (*column index*): An array of labels associated to the columns.\n",
        "\n",
        "A DataFrame can be seen as a set of series joined in a tabular structure, with an index per row in common and a column index specific to each series.\n",
        "\n",
        "![Series and DataFrames](https://github.com/4GeeksAcademy/machine-learning-prework/blob/main/03-pandas/assets/series_dataframe.png?raw=true?raw=true)\n",
        "\n",
        "A DataFrame can be created using the `DataFrame` class. For example:"
      ]
    },
    {
      "cell_type": "code",
      "execution_count": 1,
      "id": "3947a09a",
      "metadata": {
        "id": "3947a09a",
        "outputId": "7ac3ca04-aace-40dc-a7ee-3333b63c66a3",
        "colab": {
          "base_uri": "https://localhost:8080/",
          "height": 159
        }
      },
      "outputs": [
        {
          "output_type": "error",
          "ename": "NameError",
          "evalue": "name 'pd' is not defined",
          "traceback": [
            "\u001b[0;31m---------------------------------------------------------------------------\u001b[0m",
            "\u001b[0;31mNameError\u001b[0m                                 Traceback (most recent call last)",
            "\u001b[0;32m<ipython-input-1-1dff4ce124ca>\u001b[0m in \u001b[0;36m<cell line: 1>\u001b[0;34m()\u001b[0m\n\u001b[0;32m----> 1\u001b[0;31m \u001b[0mdataframe\u001b[0m \u001b[0;34m=\u001b[0m \u001b[0mpd\u001b[0m\u001b[0;34m.\u001b[0m\u001b[0mDataFrame\u001b[0m\u001b[0;34m(\u001b[0m\u001b[0;34m[\u001b[0m\u001b[0;34m[\u001b[0m\u001b[0;36m1\u001b[0m\u001b[0;34m,\u001b[0m \u001b[0;36m2\u001b[0m\u001b[0;34m,\u001b[0m \u001b[0;36m3\u001b[0m\u001b[0;34m]\u001b[0m\u001b[0;34m,\u001b[0m \u001b[0;34m[\u001b[0m\u001b[0;36m4\u001b[0m\u001b[0;34m,\u001b[0m \u001b[0;36m5\u001b[0m\u001b[0;34m,\u001b[0m \u001b[0;36m6\u001b[0m\u001b[0;34m]\u001b[0m\u001b[0;34m,\u001b[0m \u001b[0;34m[\u001b[0m\u001b[0;36m7\u001b[0m\u001b[0;34m,\u001b[0m \u001b[0;36m8\u001b[0m\u001b[0;34m,\u001b[0m \u001b[0;36m9\u001b[0m\u001b[0;34m]\u001b[0m\u001b[0;34m]\u001b[0m\u001b[0;34m)\u001b[0m\u001b[0;34m\u001b[0m\u001b[0;34m\u001b[0m\u001b[0m\n\u001b[0m\u001b[1;32m      2\u001b[0m \u001b[0mdataframe\u001b[0m\u001b[0;34m\u001b[0m\u001b[0;34m\u001b[0m\u001b[0m\n",
            "\u001b[0;31mNameError\u001b[0m: name 'pd' is not defined"
          ]
        }
      ],
      "source": [
        "dataframe = pd.DataFrame([[1, 2, 3], [4, 5, 6], [7, 8, 9]])\n",
        "dataframe"
      ]
    },
    {
      "cell_type": "markdown",
      "id": "ccf0e435",
      "metadata": {
        "id": "ccf0e435"
      },
      "source": [
        "This will create a DataFrame with three rows and three columns for each row. As was the case with series, a DataFrame will generate automatic indexes for rows and columns if they are not passed as arguments in the constructor of the class. If we wanted to create a new DataFrame with concrete indexes for rows and columns, it would be programmed as follows:"
      ]
    },
    {
      "cell_type": "code",
      "execution_count": null,
      "id": "92f62a5c",
      "metadata": {
        "id": "92f62a5c",
        "outputId": "877dabec-232a-431a-9ebe-ee2c703da414"
      },
      "outputs": [
        {
          "data": {
            "text/html": [
              "<div>\n",
              "<style scoped>\n",
              "    .dataframe tbody tr th:only-of-type {\n",
              "        vertical-align: middle;\n",
              "    }\n",
              "\n",
              "    .dataframe tbody tr th {\n",
              "        vertical-align: top;\n",
              "    }\n",
              "\n",
              "    .dataframe thead th {\n",
              "        text-align: right;\n",
              "    }\n",
              "</style>\n",
              "<table border=\"1\" class=\"dataframe\">\n",
              "  <thead>\n",
              "    <tr style=\"text-align: right;\">\n",
              "      <th></th>\n",
              "      <th>col A</th>\n",
              "      <th>col B</th>\n",
              "      <th>col C</th>\n",
              "    </tr>\n",
              "  </thead>\n",
              "  <tbody>\n",
              "    <tr>\n",
              "      <th>a</th>\n",
              "      <td>1</td>\n",
              "      <td>4</td>\n",
              "      <td>7</td>\n",
              "    </tr>\n",
              "    <tr>\n",
              "      <th>b</th>\n",
              "      <td>2</td>\n",
              "      <td>5</td>\n",
              "      <td>8</td>\n",
              "    </tr>\n",
              "    <tr>\n",
              "      <th>c</th>\n",
              "      <td>3</td>\n",
              "      <td>6</td>\n",
              "      <td>9</td>\n",
              "    </tr>\n",
              "  </tbody>\n",
              "</table>\n",
              "</div>"
            ],
            "text/plain": [
              "   col A  col B  col C\n",
              "a      1      4      7\n",
              "b      2      5      8\n",
              "c      3      6      9"
            ]
          },
          "execution_count": 5,
          "metadata": {},
          "output_type": "execute_result"
        }
      ],
      "source": [
        "data = {\n",
        "    \"col A\": [1, 2, 3],\n",
        "    \"col B\": [4, 5, 6],\n",
        "    \"col C\": [7, 8, 9]\n",
        "}\n",
        "\n",
        "dataframe = pd.DataFrame(data, index = [\"a\", \"b\", \"c\"])\n",
        "dataframe"
      ]
    },
    {
      "cell_type": "markdown",
      "id": "758e57bd",
      "metadata": {
        "id": "758e57bd"
      },
      "source": [
        "In this way, a custom index is provided for the columns (labeling the rows within a dictionary) and for the rows (with the `index` argument, as was the case with the series).\n",
        "\n",
        "In a DataFrame its elements can be accessed by index or by position. Below are some operations that can be performed using the above DataFrame:"
      ]
    },
    {
      "cell_type": "code",
      "execution_count": null,
      "id": "258c47ff",
      "metadata": {
        "id": "258c47ff",
        "outputId": "82525196-a737-44d7-9571-38738c171484"
      },
      "outputs": [
        {
          "name": "stdout",
          "output_type": "stream",
          "text": [
            "a    1\n",
            "b    2\n",
            "c    3\n",
            "Name: col A, dtype: int64\n",
            "a    1\n",
            "b    2\n",
            "c    3\n",
            "Name: col A, dtype: int64\n",
            "a    1\n",
            "b    2\n",
            "c    3\n",
            "Name: col A, dtype: int64\n",
            "col A    1\n",
            "col B    4\n",
            "col C    7\n",
            "Name: a, dtype: int64\n",
            "col A    1\n",
            "col B    4\n",
            "col C    7\n",
            "Name: a, dtype: int64\n",
            "1\n",
            "1\n",
            "   col A  col B  col C  col D\n",
            "a      1      4      7     10\n",
            "b      2      5      8     11\n",
            "c      3      6      9     12\n",
            "   col A  col B  col C  col D\n",
            "a      1      4      7     10\n",
            "b      2      5      8     11\n",
            "c      3      6      9     12\n",
            "d     13     14     15     16\n",
            "   col A  col B  col C  col D\n",
            "a     10      4      7     10\n",
            "b     20      5      8     11\n",
            "c     30      6      9     12\n",
            "d    130     14     15     16\n",
            "col A    190\n",
            "col B     29\n",
            "col C     39\n",
            "col D     49\n",
            "dtype: int64\n"
          ]
        }
      ],
      "source": [
        "# Access all the data in a column\n",
        "print(dataframe[\"col A\"]) # By index\n",
        "print(dataframe.loc[:,\"col A\"]) # By index\n",
        "print(dataframe.iloc[:,0]) # By position\n",
        "\n",
        "# Access all the data in a row\n",
        "print(dataframe.loc[\"a\"]) # By index\n",
        "print(dataframe.iloc[0]) # By position\n",
        "\n",
        "# Access to a specific element (row, column)\n",
        "print(dataframe.loc[\"a\", \"col A\"]) # By index\n",
        "print(dataframe.iloc[0, 0]) # By position\n",
        "\n",
        "# Create a new column\n",
        "dataframe[\"col D\"] = [10, 11, 12]\n",
        "print(dataframe)\n",
        "\n",
        "# Create a new row\n",
        "dataframe.loc[\"d\"] = [13, 14, 15, 16]\n",
        "print(dataframe)\n",
        "\n",
        "# Multiply by 10 the elements of a column\n",
        "dataframe[\"col A\"] *= 10\n",
        "print(dataframe)\n",
        "\n",
        "# Calculate the sum of all elements\n",
        "sum_all = dataframe.sum()\n",
        "print(sum_all)"
      ]
    },
    {
      "cell_type": "markdown",
      "id": "1ac3bdaa",
      "metadata": {
        "id": "1ac3bdaa"
      },
      "source": [
        "### Functions in Python Pandas\n",
        "\n",
        "Pandas provide a large number of predefined functions that can be applied on the data structures seen above. Some of the most used in data analysis are:"
      ]
    },
    {
      "cell_type": "code",
      "execution_count": null,
      "id": "9a54370c",
      "metadata": {
        "id": "9a54370c",
        "outputId": "a17cc833-372a-4d05-a64a-772d3e5644a4"
      },
      "outputs": [
        {
          "name": "stdout",
          "output_type": "stream",
          "text": [
            "Sum of series: 0    5\n",
            "1    7\n",
            "2    9\n",
            "dtype: int64\n",
            "Sum of DataFrames:     0   1   2\n",
            "0   8  10  12\n",
            "1  14  16  18\n",
            "Mean: 2.0\n",
            "Mediaa: 2.0\n",
            "Number of elements: 3\n",
            "Standard derviation: 1.0\n",
            "Variance: 1.0\n",
            "Maximum value: 3\n",
            "Minimum value: 1\n",
            "Correlation: 1.0\n",
            "Statistic summary: count    3.0\n",
            "mean     2.0\n",
            "std      1.0\n",
            "min      1.0\n",
            "25%      1.5\n",
            "50%      2.0\n",
            "75%      2.5\n",
            "max      3.0\n",
            "dtype: float64\n"
          ]
        }
      ],
      "source": [
        "import pandas as pd\n",
        "\n",
        "s1 = pd.Series([1, 2, 3])\n",
        "s2 = pd.Series([4, 5, 6])\n",
        "d1 = pd.DataFrame([[1, 2, 3], [4, 5, 6]])\n",
        "d2 = pd.DataFrame([[7, 8, 9], [10, 11, 12]])\n",
        "\n",
        "# Arithmetic Operations\n",
        "print(\"Sum of series:\", s1.add(s2))\n",
        "print(\"Sum of DataFrames:\", d1.add(d2))\n",
        "\n",
        "# Statistical Operations\n",
        "# They can be applied in the same way to DataFrames\n",
        "print(\"Mean:\", s1.mean())\n",
        "print(\"Median:\", s1.median())\n",
        "print(\"Number of elements:\", s1.count())\n",
        "print(\"Standard deviation:\", s1.std())\n",
        "print(\"Variance:\", s1.var())\n",
        "print(\"Maximum value:\", s1.max())\n",
        "print(\"Minimum value:\", s1.min())\n",
        "print(\"Correlation:\", s1.corr(s2))\n",
        "print(\"Statistic summary:\", s1.describe())"
      ]
    },
    {
      "cell_type": "markdown",
      "id": "1837dc19",
      "metadata": {
        "id": "1837dc19"
      },
      "source": [
        "#### Pandas allows you to use custom python functions (including lambda)\n",
        "\n",
        "In addition to the Pandas predefined functions, we can also define and apply others to the data structures. To do this, we have to program the function to receive a value (or a column or row in the case of a DataFrame) and return another modified one, and reference it with `apply`.\n",
        "\n",
        "In addition, this function allows using **lambda expressions** for the anonymous declaration of functions.\n",
        "\n",
        "The following shows how to apply functions to series:"
      ]
    },
    {
      "cell_type": "code",
      "execution_count": null,
      "id": "282d22bb",
      "metadata": {
        "id": "282d22bb",
        "outputId": "d5f9cb7c-3c42-4be3-9614-1a436403f556"
      },
      "outputs": [
        {
          "name": "stdout",
          "output_type": "stream",
          "text": [
            "0     1\n",
            "1     4\n",
            "2     9\n",
            "3    16\n",
            "dtype: int64\n",
            "0     1\n",
            "1     4\n",
            "2     9\n",
            "3    16\n",
            "dtype: int64\n"
          ]
        }
      ],
      "source": [
        "import pandas as pd\n",
        "s = pd.Series([1, 2, 3, 4])\n",
        "\n",
        "# Explicit definition of the function\n",
        "def squared(x):\n",
        "    return x ** 2\n",
        "s1 = s.apply(squared)\n",
        "print(s1)\n",
        "\n",
        "# Anonymous definition of the function\n",
        "s2 = s.apply(lambda x: x ** 2)\n",
        "print(s2)"
      ]
    },
    {
      "cell_type": "markdown",
      "id": "40e3a3db",
      "metadata": {
        "id": "40e3a3db"
      },
      "source": [
        "The following shows how to apply functions to a DataFrame, which can be done by\n",
        "\n",
        "---\n",
        "\n",
        "row, by column or by elements, similar to series:"
      ]
    },
    {
      "cell_type": "code",
      "execution_count": null,
      "id": "7c96f45d",
      "metadata": {
        "id": "7c96f45d",
        "outputId": "cef3362f-f1d6-4dff-9939-333976f3d216"
      },
      "outputs": [
        {
          "name": "stdout",
          "output_type": "stream",
          "text": [
            "   A  B\n",
            "0  1  4\n",
            "1  4  5\n",
            "2  9  6\n",
            "   A   B\n",
            "0  1  16\n",
            "1  4   5\n",
            "2  9   6\n",
            "    A    B\n",
            "0   1  256\n",
            "1  16   25\n",
            "2  81   36\n"
          ]
        }
      ],
      "source": [
        "df = pd.DataFrame({\n",
        "    \"A\": [1, 2, 3],\n",
        "    \"B\": [4, 5, 6]\n",
        "})\n",
        "\n",
        "# Apply function along a column\n",
        "df[\"A\"] = df[\"A\"].apply(lambda x: x ** 2)\n",
        "print(df)\n",
        "\n",
        "# Apply function along a row\n",
        "df.loc[0] = df.loc[0].apply(lambda x: x ** 2)\n",
        "print(df)\n",
        "\n",
        "# Apply function to all elements\n",
        "df = df.applymap(lambda x: x ** 2)\n",
        "print(df)"
      ]
    },
    {
      "cell_type": "markdown",
      "id": "3acb43c7",
      "metadata": {
        "id": "3acb43c7"
      },
      "source": [
        "`apply` is more flexible than other vectorized Pandas functions, but can be slower, especially when applied to large data sets. It is always important to explore the Pandas or NumPy built-in functions first, as they are usually more efficient than the ones we could implement ourselves.\n",
        "\n",
        "Also, this function can return results in different ways, depending on the function applied and how it is configured."
      ]
    },
    {
      "cell_type": "markdown",
      "id": "a9f764b6",
      "metadata": {
        "id": "a9f764b6"
      },
      "source": [
        "## Start practicing the Pandas syntax in python righ now!\n",
        "\n",
        "> Click on Open in Colab to do the exercises\n",
        "\n",
        "> 🛟 Solutions: In this link you can find the [solutions for the following pandas exercises](https://4geeks.com/lesson/pandas-exercises-and-solutions).\n",
        "\n",
        "\n",
        "\n",
        "### Creation of Series and Pandas DataFrames"
      ]
    },
    {
      "cell_type": "markdown",
      "id": "e3c20b3d",
      "metadata": {
        "id": "e3c20b3d"
      },
      "source": [
        "#### Pandas Exercise 01: Create a Series from a list, a NumPy array and a dictionary (★☆☆)\n",
        "\n",
        "> NOTE: Review the class `pd.Series` (https://pandas.pydata.org/docs/reference/api/pandas.Series.html)"
      ]
    },
    {
      "cell_type": "code",
      "execution_count": 6,
      "id": "8a758bcf",
      "metadata": {
        "id": "8a758bcf",
        "outputId": "f9817860-7ed0-4beb-f0da-9d92acf20e61",
        "colab": {
          "base_uri": "https://localhost:8080/"
        }
      },
      "outputs": [
        {
          "output_type": "stream",
          "name": "stdout",
          "text": [
            "0    1\n",
            "1    2\n",
            "2    3\n",
            "3    4\n",
            "4    5\n",
            "5    6\n",
            "6    7\n",
            "7    8\n",
            "dtype: int64\n",
            "0    1\n",
            "1    2\n",
            "2    3\n",
            "3    4\n",
            "4    5\n",
            "dtype: int64\n",
            "a    1\n",
            "b    2\n",
            "c    3\n",
            "d    4\n",
            "dtype: int64\n"
          ]
        }
      ],
      "source": [
        "import pandas as pd\n",
        "import numpy as np\n",
        "\n",
        "print(pd.Series([1, 2, 3, 4, 5, 6, 7, 8]))\n",
        "print(pd.Series(np.array([1, 2, 3, 4, 5])))\n",
        "print(pd.Series({\"a\": 1, \"b\": 2, \"c\": 3, \"d\": 4}))"
      ]
    },
    {
      "cell_type": "markdown",
      "id": "cb8185b8",
      "metadata": {
        "id": "cb8185b8"
      },
      "source": [
        "#### Pandas Exercise 02: Create a DataFrame from a NumPy array, a dictionary and a list of tuples (★☆☆)\n",
        "\n",
        "> NOTE: Review the class `pd.DataFrame` (https://pandas.pydata.org/docs/reference/api/pandas.DataFrame.html)"
      ]
    },
    {
      "cell_type": "code",
      "execution_count": 2,
      "id": "16cc6699",
      "metadata": {
        "id": "16cc6699",
        "outputId": "ef95de7b-7924-436a-eb34-8764a3ba96ef",
        "colab": {
          "base_uri": "https://localhost:8080/"
        }
      },
      "outputs": [
        {
          "output_type": "stream",
          "name": "stdout",
          "text": [
            "   0  1  2\n",
            "0  1  2  3\n",
            "1  4  5  6\n",
            "2  7  8  9\n",
            "   a  b  c\n",
            "0  1  4  7\n",
            "1  2  5  8\n",
            "2  3  6  9\n",
            "   0  1  2\n",
            "0  1  2  3\n",
            "1  4  5  6\n",
            "2  7  8  9\n"
          ]
        }
      ],
      "source": [
        "import numpy as np\n",
        "import pandas as pd\n",
        "\n",
        "print(pd.DataFrame(np.array([[1, 2, 3], [4, 5, 6], [7, 8, 9]])))\n",
        "print(pd.DataFrame({\"a\": [1, 2, 3], \"b\": [4, 5, 6], \"c\": [7, 8 , 9]}))\n",
        "print(pd.DataFrame([(1, 2, 3), (4, 5, 6), (7, 8, 9)]))"
      ]
    },
    {
      "cell_type": "markdown",
      "id": "96424fb7",
      "metadata": {
        "id": "96424fb7"
      },
      "source": [
        "#### Pandas Exercise 03: Create 2 Series and use them to build a DataFrame (★☆☆)\n",
        "\n",
        "> NOTE: Review the functions `pd.concat` (https://pandas.pydata.org/docs/reference/api/pandas.concat.html) and `pd.Series.to_frame` (https://pandas.pydata.org/docs/reference/api/pandas.Series.to_frame.html)"
      ]
    },
    {
      "cell_type": "code",
      "execution_count": 3,
      "id": "36ff398e",
      "metadata": {
        "id": "36ff398e",
        "outputId": "170f7224-c63d-41db-f7fc-d21ad0c1d539",
        "colab": {
          "base_uri": "https://localhost:8080/"
        }
      },
      "outputs": [
        {
          "output_type": "stream",
          "name": "stdout",
          "text": [
            "   0   1\n",
            "0  1   6\n",
            "1  2   7\n",
            "2  3   8\n",
            "3  4   9\n",
            "4  5  10\n"
          ]
        }
      ],
      "source": [
        "import pandas as pd\n",
        "import numpy as np\n",
        "\n",
        "s1 = pd.Series([1, 2, 3, 4, 5])\n",
        "s2 = pd.Series([6, 7, 8, 9, 10])\n",
        "\n",
        "print(pd.concat([s1, s2], axis=1))"
      ]
    },
    {
      "cell_type": "markdown",
      "id": "8caafb43",
      "metadata": {
        "id": "8caafb43"
      },
      "source": [
        "### Filtering and updating\n",
        "\n",
        "```\n",
        "# This is formatted as code\n",
        "```\n",
        "\n"
      ]
    },
    {
      "cell_type": "markdown",
      "id": "1499a0a6",
      "metadata": {
        "id": "1499a0a6"
      },
      "source": [
        "#### Exercise 04: Use the Series created in the previous exercise and select the positions of the elements of the first Series that are in the second Series (★★☆)\n",
        "\n",
        "> NOTE: Review the function `pd.Series.isin` (https://pandas.pydata.org/docs/reference/api/pandas.Series.isin.html)"
      ]
    },
    {
      "cell_type": "code",
      "execution_count": 5,
      "id": "5683a253",
      "metadata": {
        "id": "5683a253",
        "outputId": "79cb91d8-fbb1-4358-fc6f-36771f074e5d",
        "colab": {
          "base_uri": "https://localhost:8080/"
        }
      },
      "outputs": [
        {
          "output_type": "stream",
          "name": "stdout",
          "text": [
            "   0   1\n",
            "0  1   6\n",
            "1  2   7\n",
            "2  3   8\n",
            "3  4   9\n",
            "4  5  10\n",
            "      0      1\n",
            "0  True  False\n",
            "1  True  False\n",
            "2  True  False\n",
            "3  True  False\n",
            "4  True  False\n"
          ]
        }
      ],
      "source": [
        "import pandas as pd\n",
        "import numpy as np\n",
        "\n",
        "s1 = pd.Series([1, 2, 3, 4, 5])\n",
        "s2 = pd.Series([6, 7, 8, 9, 10])\n",
        "\n",
        "serie = pd.concat([s1, s2], axis = 1)\n",
        "is_in_serie = serie.isin([1, 2, 3, 4, 5])\n",
        "print(serie)\n",
        "print(is_in_serie)"
      ]
    },
    {
      "cell_type": "markdown",
      "id": "4303b614",
      "metadata": {
        "id": "4303b614"
      },
      "source": [
        "#### Pandas Exercise 05: Use the series created in exercise 03 and list the elements that are not common between both series (★★☆)"
      ]
    },
    {
      "cell_type": "code",
      "execution_count": 7,
      "id": "477e01f4",
      "metadata": {
        "id": "477e01f4",
        "outputId": "d8f32b9d-8f57-4e04-d8fe-b9192adbe85d",
        "colab": {
          "base_uri": "https://localhost:8080/"
        }
      },
      "outputs": [
        {
          "output_type": "stream",
          "name": "stdout",
          "text": [
            "0     1\n",
            "1     2\n",
            "2     3\n",
            "3     4\n",
            "4     5\n",
            "5     6\n",
            "6     7\n",
            "7     8\n",
            "8     9\n",
            "9    10\n",
            "dtype: int64\n"
          ]
        }
      ],
      "source": [
        "import pandas as pd\n",
        "import numpy as np\n",
        "\n",
        "s1 = pd.Series([1, 2, 3, 4, 5])\n",
        "s2 = pd.Series([6, 7, 8, 9, 10])\n",
        "\n",
        "non_common_elements = pd.Series(list(set(s1).symmetric_difference(set(s2))))\n",
        "print(non_common_elements)"
      ]
    },
    {
      "cell_type": "markdown",
      "id": "4e7ad59c",
      "metadata": {
        "id": "4e7ad59c"
      },
      "source": [
        "#### Pandas Exercise 06: Create a DataFrame of random numbers with 5 columns and 10 rows and sort one of its columns from smallest to largest (★★☆)\n",
        "\n",
        "> NOTE: Review the function `pd.DataFrame.sort_values` (https://pandas.pydata.org/docs/reference/api/pandas.DataFrame.sort_values.html)"
      ]
    },
    {
      "cell_type": "code",
      "execution_count": 22,
      "id": "82de9a71",
      "metadata": {
        "id": "82de9a71",
        "outputId": "044a4365-a810-41ae-b067-b4748a6de33a",
        "colab": {
          "base_uri": "https://localhost:8080/"
        }
      },
      "outputs": [
        {
          "output_type": "stream",
          "name": "stdout",
          "text": [
            "          0         1         2         3         4\n",
            "0  0.898736  0.157209  0.961842  0.670128  0.451450\n",
            "1  0.279240  0.085234  0.357287  0.604331  0.679043\n",
            "2  0.884648  0.042382  0.432739  0.775584  0.026219\n",
            "3  0.400261  0.749671  0.520458  0.542410  0.558833\n",
            "4  0.655069  0.023194  0.222187  0.677827  0.600222\n",
            "5  0.024517  0.850004  0.717854  0.786446  0.837857\n",
            "6  0.326950  0.673279  0.627136  0.306662  0.034587\n",
            "7  0.517678  0.957587  0.219446  0.381154  0.338662\n",
            "8  0.323398  0.271021  0.268376  0.084363  0.224489\n",
            "9  0.615290  0.514255  0.479323  0.887077  0.211749\n",
            "          0         1         2         3         4\n",
            "4  0.655069  0.023194  0.222187  0.677827  0.600222\n",
            "2  0.884648  0.042382  0.432739  0.775584  0.026219\n",
            "1  0.279240  0.085234  0.357287  0.604331  0.679043\n",
            "0  0.898736  0.157209  0.961842  0.670128  0.451450\n",
            "8  0.323398  0.271021  0.268376  0.084363  0.224489\n",
            "9  0.615290  0.514255  0.479323  0.887077  0.211749\n",
            "6  0.326950  0.673279  0.627136  0.306662  0.034587\n",
            "3  0.400261  0.749671  0.520458  0.542410  0.558833\n",
            "5  0.024517  0.850004  0.717854  0.786446  0.837857\n",
            "7  0.517678  0.957587  0.219446  0.381154  0.338662\n"
          ]
        }
      ],
      "source": [
        "import numpy as np\n",
        "import pandas as pd\n",
        "\n",
        "data_frame = pd.DataFrame(np.random.rand(10, 5))\n",
        "print(data_frame)\n",
        "print(pd.DataFrame.sort_values(data_frame, by=[1, 2]))"
      ]
    },
    {
      "cell_type": "markdown",
      "id": "09f77d6a",
      "metadata": {
        "id": "09f77d6a"
      },
      "source": [
        "#### Pandas Exercise 07: Modify the name of the 5 columns of the above DataFrame to the following format: `N_column` where `N` is the column number (★★☆)\n",
        "\n",
        "> NOTE: Review the function `pd.DataFrame.sort_values` (https://pandas.pydata.org/docs/reference/api/pandas.DataFrame.sort_values.html)"
      ]
    },
    {
      "cell_type": "code",
      "execution_count": 25,
      "id": "6c65fe4f",
      "metadata": {
        "id": "6c65fe4f",
        "outputId": "128a7203-ac36-4195-ab14-92f769736c88",
        "colab": {
          "base_uri": "https://localhost:8080/"
        }
      },
      "outputs": [
        {
          "output_type": "stream",
          "name": "stdout",
          "text": [
            "        N_1       N_2       N_3       N_4       N_5\n",
            "0  0.888040  0.617885  0.897549  0.198705  0.033030\n",
            "1  0.876117  0.792401  0.393656  0.469565  0.249425\n",
            "2  0.402760  0.233208  0.355324  0.878578  0.475918\n",
            "3  0.369357  0.197357  0.682414  0.354695  0.473807\n",
            "4  0.607596  0.695609  0.563437  0.375377  0.068762\n",
            "5  0.561048  0.612734  0.208423  0.415649  0.145043\n",
            "6  0.706596  0.565350  0.648103  0.208155  0.401765\n",
            "7  0.118588  0.400360  0.783725  0.808354  0.442376\n",
            "8  0.135625  0.491004  0.194288  0.336916  0.993118\n",
            "9  0.942958  0.170864  0.092534  0.654584  0.238367\n"
          ]
        }
      ],
      "source": [
        "import pandas as pd\n",
        "import numpy as np\n",
        "\n",
        "data_frame = pd.DataFrame(np.random.rand(10, 5))\n",
        "data_frame.columns = [\"N_1\", \"N_2\", \"N_3\", \"N_4\", \"N_5\"]\n",
        "print(data_frame)"
      ]
    },
    {
      "cell_type": "markdown",
      "id": "c0e940f8",
      "metadata": {
        "id": "c0e940f8"
      },
      "source": [
        "#### Pandas Exercise 08: Modify the index of the rows of the DataFrame of exercise 06 (★★☆)\n",
        "\n",
        "> NOTE: Review the function `pd.DataFrame.sort_values` (https://pandas.pydata.org/docs/reference/api/pandas.DataFrame.sort_values.html)"
      ]
    },
    {
      "cell_type": "code",
      "execution_count": 26,
      "id": "820dc7a5",
      "metadata": {
        "id": "820dc7a5",
        "outputId": "1baf6aad-b686-4029-8f9d-c07bbc602240",
        "colab": {
          "base_uri": "https://localhost:8080/"
        }
      },
      "outputs": [
        {
          "output_type": "stream",
          "name": "stdout",
          "text": [
            "          0         1         2         3         4\n",
            "a  0.100405  0.798578  0.555582  0.459010  0.085739\n",
            "b  0.819991  0.775364  0.182959  0.726056  0.134788\n",
            "c  0.969721  0.819614  0.193176  0.359884  0.741937\n",
            "d  0.112881  0.094234  0.538540  0.630325  0.928061\n",
            "e  0.914594  0.539133  0.935441  0.783583  0.303785\n",
            "f  0.607654  0.012223  0.009742  0.988377  0.545377\n",
            "g  0.531500  0.241452  0.402176  0.227035  0.097638\n",
            "h  0.087091  0.586619  0.642232  0.580847  0.085988\n",
            "i  0.800310  0.370774  0.206539  0.344845  0.816417\n",
            "j  0.663001  0.766174  0.481544  0.472235  0.850237\n"
          ]
        }
      ],
      "source": [
        "import pandas as pd\n",
        "import numpy as np\n",
        "\n",
        "data_frame = pd.DataFrame(np.random.rand(10, 5))\n",
        "data_frame.index = [\"a\", \"b\", \"c\", \"d\", \"e\", \"f\", \"g\", \"h\", \"i\", \"j\"]\n",
        "print(data_frame)"
      ]
    }
  ],
  "metadata": {
    "kernelspec": {
      "display_name": "Python 3",
      "language": "python",
      "name": "python3"
    },
    "language_info": {
      "codemirror_mode": {
        "name": "ipython",
        "version": 3
      },
      "file_extension": ".py",
      "mimetype": "text/x-python",
      "name": "python",
      "nbconvert_exporter": "python",
      "pygments_lexer": "ipython3",
      "version": "3.11.4"
    },
    "colab": {
      "provenance": [],
      "include_colab_link": true
    }
  },
  "nbformat": 4,
  "nbformat_minor": 5
}